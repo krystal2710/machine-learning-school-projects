{
  "cells": [
    {
      "cell_type": "markdown",
      "metadata": {
        "id": "view-in-github",
        "colab_type": "text"
      },
      "source": [
        "<a href=\"https://colab.research.google.com/github/krystal2710/machine-learning-school-projects/blob/main/WebScraping.ipynb\" target=\"_parent\"><img src=\"https://colab.research.google.com/assets/colab-badge.svg\" alt=\"Open In Colab\"/></a>"
      ]
    },
    {
      "cell_type": "code",
      "execution_count": null,
      "metadata": {
        "id": "e9rhvFdWBveq"
      },
      "outputs": [],
      "source": [
        "import os\n",
        "os.getcwd()\n",
        "os.chdir('/content/drive/MyDrive/IndependentStudy/BookProject')"
      ]
    },
    {
      "cell_type": "markdown",
      "metadata": {
        "id": "lTX1dMGDCC4R"
      },
      "source": [
        "# Content of the Project\n",
        "\n",
        "1. Set Up\n",
        "2. Web-scraping\n",
        "3. Exploratory Data Analysis"
      ]
    },
    {
      "cell_type": "markdown",
      "metadata": {
        "id": "FP_WvaZ9CO3O"
      },
      "source": [
        "## Scrape Book Genres"
      ]
    },
    {
      "cell_type": "code",
      "execution_count": null,
      "metadata": {
        "id": "KIySlJALCKuJ"
      },
      "outputs": [],
      "source": [
        "from bs4 import BeautifulSoup\n",
        "import requests\n",
        "import numpy as np\n",
        "\n",
        "user_agent = 'Mozilla/5.0 (Macintosh; Intel Mac OS X 10_15_7) AppleWebKit/605.1.15 (KHTML, like Gecko) Version/14.1.2 Safari/605.1.15'\n",
        "headers = {'User-Agent': user_agent}\n",
        "\n",
        "def get_genres(item_id, url):\n",
        "    times = 0\n",
        "    while times <= 10:\n",
        "        try:\n",
        "            r = requests.get(url, headers = headers)\n",
        "            bs = BeautifulSoup(r.text)\n",
        "            genres = bs.find_all('a', {'class': 'actionLinkLite bookPageGenreLink'})\n",
        "            if len(genres) >= 2:\n",
        "                temp_list = [item_id, genres[0].text, genres[1].text]\n",
        "            elif len(genres) == 1:\n",
        "                temp_list = [item_id, genres[0].text]\n",
        "            else:\n",
        "                temp_list = [item_id, np.nan, np.nan]\n",
        "            return temp_list\n",
        "        except:\n",
        "            times += 1\n",
        "            continue"
      ]
    },
    {
      "cell_type": "code",
      "execution_count": null,
      "metadata": {
        "colab": {
          "base_uri": "https://localhost:8080/",
          "height": 142
        },
        "id": "ukgKLYMwCVAy",
        "outputId": "6c924367-1e51-43d7-cba6-408066674269"
      },
      "outputs": [
        {
          "data": {
            "text/html": [
              "\n",
              "  <div id=\"df-7f51b3ee-89e0-4acc-b0f4-f4401d6388f8\">\n",
              "    <div class=\"colab-df-container\">\n",
              "      <div>\n",
              "<style scoped>\n",
              "    .dataframe tbody tr th:only-of-type {\n",
              "        vertical-align: middle;\n",
              "    }\n",
              "\n",
              "    .dataframe tbody tr th {\n",
              "        vertical-align: top;\n",
              "    }\n",
              "\n",
              "    .dataframe thead th {\n",
              "        text-align: right;\n",
              "    }\n",
              "</style>\n",
              "<table border=\"1\" class=\"dataframe\">\n",
              "  <thead>\n",
              "    <tr style=\"text-align: right;\">\n",
              "      <th></th>\n",
              "      <th>item_id</th>\n",
              "      <th>url</th>\n",
              "      <th>title</th>\n",
              "      <th>authors</th>\n",
              "      <th>lang</th>\n",
              "      <th>img</th>\n",
              "      <th>year</th>\n",
              "      <th>description</th>\n",
              "    </tr>\n",
              "  </thead>\n",
              "  <tbody>\n",
              "    <tr>\n",
              "      <th>0</th>\n",
              "      <td>16827462</td>\n",
              "      <td>https://www.goodreads.com/book/show/11870085-t...</td>\n",
              "      <td>The Fault in Our Stars</td>\n",
              "      <td>John Green</td>\n",
              "      <td>eng</td>\n",
              "      <td>https://images.gr-assets.com/books/1360206420m...</td>\n",
              "      <td>2012</td>\n",
              "      <td>There is an alternate cover edition \u0001.\\n\"I fel...</td>\n",
              "    </tr>\n",
              "    <tr>\n",
              "      <th>1</th>\n",
              "      <td>2792775</td>\n",
              "      <td>https://www.goodreads.com/book/show/2767052-th...</td>\n",
              "      <td>The Hunger Games (The Hunger Games, #1)</td>\n",
              "      <td>Suzanne Collins</td>\n",
              "      <td>eng</td>\n",
              "      <td>https://images.gr-assets.com/books/1447303603m...</td>\n",
              "      <td>2008</td>\n",
              "      <td>Winning will make you famous.\\nLosing means ce...</td>\n",
              "    </tr>\n",
              "    <tr>\n",
              "      <th>2</th>\n",
              "      <td>8812783</td>\n",
              "      <td>https://www.goodreads.com/book/show/7260188-mo...</td>\n",
              "      <td>Mockingjay (The Hunger Games, #3)</td>\n",
              "      <td>Suzanne Collins</td>\n",
              "      <td>eng</td>\n",
              "      <td>https://images.gr-assets.com/books/1358275419m...</td>\n",
              "      <td>2010</td>\n",
              "      <td>My name is Katniss Everdeen.\\nWhy am I not dea...</td>\n",
              "    </tr>\n",
              "  </tbody>\n",
              "</table>\n",
              "</div>\n",
              "      <button class=\"colab-df-convert\" onclick=\"convertToInteractive('df-7f51b3ee-89e0-4acc-b0f4-f4401d6388f8')\"\n",
              "              title=\"Convert this dataframe to an interactive table.\"\n",
              "              style=\"display:none;\">\n",
              "        \n",
              "  <svg xmlns=\"http://www.w3.org/2000/svg\" height=\"24px\"viewBox=\"0 0 24 24\"\n",
              "       width=\"24px\">\n",
              "    <path d=\"M0 0h24v24H0V0z\" fill=\"none\"/>\n",
              "    <path d=\"M18.56 5.44l.94 2.06.94-2.06 2.06-.94-2.06-.94-.94-2.06-.94 2.06-2.06.94zm-11 1L8.5 8.5l.94-2.06 2.06-.94-2.06-.94L8.5 2.5l-.94 2.06-2.06.94zm10 10l.94 2.06.94-2.06 2.06-.94-2.06-.94-.94-2.06-.94 2.06-2.06.94z\"/><path d=\"M17.41 7.96l-1.37-1.37c-.4-.4-.92-.59-1.43-.59-.52 0-1.04.2-1.43.59L10.3 9.45l-7.72 7.72c-.78.78-.78 2.05 0 2.83L4 21.41c.39.39.9.59 1.41.59.51 0 1.02-.2 1.41-.59l7.78-7.78 2.81-2.81c.8-.78.8-2.07 0-2.86zM5.41 20L4 18.59l7.72-7.72 1.47 1.35L5.41 20z\"/>\n",
              "  </svg>\n",
              "      </button>\n",
              "      \n",
              "  <style>\n",
              "    .colab-df-container {\n",
              "      display:flex;\n",
              "      flex-wrap:wrap;\n",
              "      gap: 12px;\n",
              "    }\n",
              "\n",
              "    .colab-df-convert {\n",
              "      background-color: #E8F0FE;\n",
              "      border: none;\n",
              "      border-radius: 50%;\n",
              "      cursor: pointer;\n",
              "      display: none;\n",
              "      fill: #1967D2;\n",
              "      height: 32px;\n",
              "      padding: 0 0 0 0;\n",
              "      width: 32px;\n",
              "    }\n",
              "\n",
              "    .colab-df-convert:hover {\n",
              "      background-color: #E2EBFA;\n",
              "      box-shadow: 0px 1px 2px rgba(60, 64, 67, 0.3), 0px 1px 3px 1px rgba(60, 64, 67, 0.15);\n",
              "      fill: #174EA6;\n",
              "    }\n",
              "\n",
              "    [theme=dark] .colab-df-convert {\n",
              "      background-color: #3B4455;\n",
              "      fill: #D2E3FC;\n",
              "    }\n",
              "\n",
              "    [theme=dark] .colab-df-convert:hover {\n",
              "      background-color: #434B5C;\n",
              "      box-shadow: 0px 1px 3px 1px rgba(0, 0, 0, 0.15);\n",
              "      filter: drop-shadow(0px 1px 2px rgba(0, 0, 0, 0.3));\n",
              "      fill: #FFFFFF;\n",
              "    }\n",
              "  </style>\n",
              "\n",
              "      <script>\n",
              "        const buttonEl =\n",
              "          document.querySelector('#df-7f51b3ee-89e0-4acc-b0f4-f4401d6388f8 button.colab-df-convert');\n",
              "        buttonEl.style.display =\n",
              "          google.colab.kernel.accessAllowed ? 'block' : 'none';\n",
              "\n",
              "        async function convertToInteractive(key) {\n",
              "          const element = document.querySelector('#df-7f51b3ee-89e0-4acc-b0f4-f4401d6388f8');\n",
              "          const dataTable =\n",
              "            await google.colab.kernel.invokeFunction('convertToInteractive',\n",
              "                                                     [key], {});\n",
              "          if (!dataTable) return;\n",
              "\n",
              "          const docLinkHtml = 'Like what you see? Visit the ' +\n",
              "            '<a target=\"_blank\" href=https://colab.research.google.com/notebooks/data_table.ipynb>data table notebook</a>'\n",
              "            + ' to learn more about interactive tables.';\n",
              "          element.innerHTML = '';\n",
              "          dataTable['output_type'] = 'display_data';\n",
              "          await google.colab.output.renderOutput(dataTable, element);\n",
              "          const docLink = document.createElement('div');\n",
              "          docLink.innerHTML = docLinkHtml;\n",
              "          element.appendChild(docLink);\n",
              "        }\n",
              "      </script>\n",
              "    </div>\n",
              "  </div>\n",
              "  "
            ],
            "text/plain": [
              "    item_id                                                url  \\\n",
              "0  16827462  https://www.goodreads.com/book/show/11870085-t...   \n",
              "1   2792775  https://www.goodreads.com/book/show/2767052-th...   \n",
              "2   8812783  https://www.goodreads.com/book/show/7260188-mo...   \n",
              "\n",
              "                                     title          authors lang  \\\n",
              "0                   The Fault in Our Stars       John Green  eng   \n",
              "1  The Hunger Games (The Hunger Games, #1)  Suzanne Collins  eng   \n",
              "2        Mockingjay (The Hunger Games, #3)  Suzanne Collins  eng   \n",
              "\n",
              "                                                 img  year  \\\n",
              "0  https://images.gr-assets.com/books/1360206420m...  2012   \n",
              "1  https://images.gr-assets.com/books/1447303603m...  2008   \n",
              "2  https://images.gr-assets.com/books/1358275419m...  2010   \n",
              "\n",
              "                                         description  \n",
              "0  There is an alternate cover edition \u0001.\\n\"I fel...  \n",
              "1  Winning will make you famous.\\nLosing means ce...  \n",
              "2  My name is Katniss Everdeen.\\nWhy am I not dea...  "
            ]
          },
          "execution_count": 5,
          "metadata": {},
          "output_type": "execute_result"
        }
      ],
      "source": [
        "import pandas as pd\n",
        "\n",
        "metadata_df = pd.read_csv(\"data/metadata.csv\", index_col = 0)\n",
        "metadata_df.head(3)"
      ]
    },
    {
      "cell_type": "code",
      "execution_count": null,
      "metadata": {
        "id": "dVPw_mnUDBcs"
      },
      "outputs": [],
      "source": [
        "item_id_list = list(metadata_df['item_id'])\n",
        "url_list = list(metadata_df['url'])"
      ]
    },
    {
      "cell_type": "code",
      "execution_count": null,
      "metadata": {
        "id": "FmrqQZzaDcmY"
      },
      "outputs": [],
      "source": [
        "#scrape 0-999\n",
        "row_list = []\n",
        "for i in range(0,1000):\n",
        "    row_list.append(get_genres(item_id_list[i], url_list[i]))\n",
        "\n",
        "df = pd.DataFrame(row_list, columns=['item_id', 'first_genre', 'second_genre'])\n",
        "df.to_csv('data/genres_data/genre-1.csv')"
      ]
    },
    {
      "cell_type": "code",
      "execution_count": null,
      "metadata": {
        "id": "IAr3GgMGDjCU"
      },
      "outputs": [],
      "source": [
        "#scrape 1000-1999\n",
        "row_list = []\n",
        "for i in range(1000,2000):\n",
        "    row_list.append(get_genres(item_id_list[i], url_list[i]))\n",
        "\n",
        "df = pd.DataFrame(row_list, columns=['item_id', 'first_genre', 'second_genre'])\n",
        "df.to_csv('data/genres_data/genre-2.csv')"
      ]
    },
    {
      "cell_type": "code",
      "execution_count": null,
      "metadata": {
        "id": "Ip8geW07s20P"
      },
      "outputs": [],
      "source": [
        "#scrape 2000-2999\n",
        "row_list = []\n",
        "for i in range(2000,3000):\n",
        "    row_list.append(get_genres(item_id_list[i], url_list[i]))\n",
        "\n",
        "df = pd.DataFrame(row_list, columns=['item_id', 'first_genre', 'second_genre'])\n",
        "df.to_csv('data/genres_data/genre-3.csv')"
      ]
    },
    {
      "cell_type": "code",
      "execution_count": null,
      "metadata": {
        "id": "nMLGnC8SROfE"
      },
      "outputs": [],
      "source": [
        "#scrape 3000-3999\n",
        "row_list = []\n",
        "for i in range(3000,4000):\n",
        "    row_list.append(get_genres(item_id_list[i], url_list[i]))\n",
        "\n",
        "df = pd.DataFrame(row_list, columns=['item_id', 'first_genre', 'second_genre'])\n",
        "df.to_csv('data/genres_data/genre-4.csv')"
      ]
    },
    {
      "cell_type": "code",
      "execution_count": null,
      "metadata": {
        "id": "Zu5LV3QxRZaS"
      },
      "outputs": [],
      "source": [
        "#scrape 4000-4999\n",
        "row_list = []\n",
        "for i in range(4000,5000):\n",
        "    row_list.append(get_genres(item_id_list[i], url_list[i]))\n",
        "\n",
        "df = pd.DataFrame(row_list, columns=['item_id', 'first_genre', 'second_genre'])\n",
        "df.to_csv('data/genres_data/genre-5.csv')"
      ]
    },
    {
      "cell_type": "code",
      "execution_count": null,
      "metadata": {
        "id": "1HZD2HKwRe0p"
      },
      "outputs": [],
      "source": [
        "#scrape 5000-5999\n",
        "row_list = []\n",
        "for i in range(5000,6000):\n",
        "    row_list.append(get_genres(item_id_list[i], url_list[i]))\n",
        "\n",
        "df = pd.DataFrame(row_list, columns=['item_id', 'first_genre', 'second_genre'])\n",
        "df.to_csv('data/genres_data/genre-6.csv')"
      ]
    },
    {
      "cell_type": "code",
      "execution_count": null,
      "metadata": {
        "id": "_rgJjVocRjy3"
      },
      "outputs": [],
      "source": [
        "#scrape 6000-6999\n",
        "row_list = []\n",
        "for i in range(6000,7000):\n",
        "    row_list.append(get_genres(item_id_list[i], url_list[i]))\n",
        "\n",
        "df = pd.DataFrame(row_list, columns=['item_id', 'first_genre', 'second_genre'])\n",
        "df.to_csv('data/genres_data/genre-7.csv')"
      ]
    },
    {
      "cell_type": "code",
      "execution_count": null,
      "metadata": {
        "id": "geLZNXfQRnnM"
      },
      "outputs": [],
      "source": [
        "#scrape 7000-7999\n",
        "row_list = []\n",
        "for i in range(7000,8000):\n",
        "    row_list.append(get_genres(item_id_list[i], url_list[i]))\n",
        "\n",
        "df = pd.DataFrame(row_list, columns=['item_id', 'first_genre', 'second_genre'])\n",
        "df.to_csv('data/genres_data/genre-8.csv')"
      ]
    },
    {
      "cell_type": "code",
      "execution_count": null,
      "metadata": {
        "id": "u8kHZVJWRs2S"
      },
      "outputs": [],
      "source": [
        "#scrape 8000-8999\n",
        "row_list = []\n",
        "for i in range(8000,9000):\n",
        "    row_list.append(get_genres(item_id_list[i], url_list[i]))\n",
        "\n",
        "df = pd.DataFrame(row_list, columns=['item_id', 'first_genre', 'second_genre'])\n",
        "df.to_csv('data/genres_data/genre-9.csv')"
      ]
    },
    {
      "cell_type": "code",
      "execution_count": null,
      "metadata": {
        "id": "TM6MaZMrR18f"
      },
      "outputs": [],
      "source": [
        "#scrape 9000 - end\n",
        "row_list = []\n",
        "for i in range(9000,len(item)):\n",
        "    row_list.append(get_genres(item_id_list[i], url_list[i]))\n",
        "\n",
        "df = pd.DataFrame(row_list, columns=['item_id', 'first_genre', 'second_genre'])\n",
        "df.to_csv('data/genres_data/genre-10.csv')"
      ]
    },
    {
      "cell_type": "markdown",
      "metadata": {
        "id": "Y_OCsp_A50uN"
      },
      "source": [
        "## Scrape Missing Release Year"
      ]
    },
    {
      "cell_type": "code",
      "execution_count": null,
      "metadata": {
        "id": "0iyY5pLk53oC"
      },
      "outputs": [],
      "source": [
        "from bs4 import BeautifulSoup\n",
        "import requests\n",
        "import numpy as np\n",
        "import re\n",
        "\n",
        "user_agent = 'Mozilla/5.0 (Macintosh; Intel Mac OS X 10_15_7) AppleWebKit/605.1.15 (KHTML, like Gecko) Version/14.1.2 Safari/605.1.15'\n",
        "headers = {'User-Agent': user_agent}\n",
        "\n",
        "def get_year(item_id, url):\n",
        "    times = 0\n",
        "    while times <= 10:\n",
        "        try:\n",
        "            r = requests.get(url, headers = headers)\n",
        "            bs = BeautifulSoup(r.text)\n",
        "            target = bs.find('div', class_ = 'uitext darkGreyText', id = 'details').text\n",
        "            pattern = r'Published(?:.|\\n)+(\\d{4})(?:.|\\n)+More Details'\n",
        "            year = int(re.findall(pattern, target)[0])\n",
        "            return [item_id, year]\n",
        "        except:\n",
        "            times+=1\n",
        "            continue\n",
        "    return [np.nan, np.nan]"
      ]
    },
    {
      "cell_type": "code",
      "execution_count": null,
      "metadata": {
        "id": "WjVyTtcakr33"
      },
      "outputs": [],
      "source": [
        "import pandas as pd\n",
        "metadata_df = pd.read_csv('data/metadata_with_genres.csv', index_col = 0)"
      ]
    },
    {
      "cell_type": "code",
      "execution_count": null,
      "metadata": {
        "id": "iXJUNuXqks2z"
      },
      "outputs": [],
      "source": [
        "item_id_list = list(metadata_df[metadata_df['year'] == 0]['item_id'])\n",
        "url_list = list(metadata_df[metadata_df['year'] == 0]['url'])"
      ]
    },
    {
      "cell_type": "code",
      "execution_count": null,
      "metadata": {
        "colab": {
          "background_save": true
        },
        "id": "DG9JJlaE58rC"
      },
      "outputs": [],
      "source": [
        "row_list = []\n",
        "for i in range(len(url_list)):\n",
        "    row_list.append(get_year(item_id_list[i], url_list[i]))"
      ]
    },
    {
      "cell_type": "code",
      "execution_count": null,
      "metadata": {
        "colab": {
          "background_save": true
        },
        "id": "l3YPO8jhpmIS"
      },
      "outputs": [],
      "source": [
        "df = pd.DataFrame(row_list, columns=['item_id', 'year'])\n",
        "df.to_csv('data/missing-year.csv')"
      ]
    }
  ],
  "metadata": {
    "colab": {
      "provenance": [],
      "mount_file_id": "11E1XLbg9lOO0Om_c9XmbolKxhv6vJMAq",
      "authorship_tag": "ABX9TyMSmuCXla/5n04B9RtkU91v",
      "include_colab_link": true
    },
    "kernelspec": {
      "display_name": "Python 3",
      "name": "python3"
    },
    "language_info": {
      "name": "python"
    }
  },
  "nbformat": 4,
  "nbformat_minor": 0
}